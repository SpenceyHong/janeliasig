{
 "metadata": {
  "name": "",
  "signature": "sha256:a6546db402deef7351ff7a671387afef389f6066b3785764da7b19c7e65f130c"
 },
 "nbformat": 3,
 "nbformat_minor": 0,
 "worksheets": [
  {
   "cells": [
    {
     "cell_type": "markdown",
     "metadata": {},
     "source": [
      "This is the documentation and test iPython notebook for the package `janeliasig`!"
     ]
    },
    {
     "cell_type": "markdown",
     "metadata": {},
     "source": [
      "If you are an employee of Janelia, then the following code will work because the location of the .bin files are available on \\\\tier2.\n",
      "\n",
      "If you are not an employee of Janelia, please skip ahead to the next code where I will be using the test_bin_file."
     ]
    },
    {
     "cell_type": "code",
     "collapsed": false,
     "input": [
      "import janeliasig.algorithm as js\n",
      "import numpy as np\n",
      "import matplotlib.pyplot as plt\n",
      "import os\n",
      "import warnings\n",
      "%matplotlib inline\n",
      "\n",
      "#1.5 gigahertz laser pulse\n",
      "#converted to nanoseconds\n",
      "warnings.filterwarnings(\"ignore\", category=DeprecationWarning)\n",
      "Location =  os.path.normpath(\"//tier2/svoboda/fastDAQ_GeorgKarel/measurements on dye/\")\n",
      "\n",
      "#Loading one file at a time\n",
      "#PMT Output\n",
      "fn_photons = '\\\\' + \"0024_3_ch0.bin\" #PMT output\n",
      "filename = Location + fn_photons\n",
      "photons = js.load_raw_data(filename, 10e3)\n",
      "\n",
      "#Laser hit rate\n",
      "fn_laser = '\\\\' + \"0029_1_ch1.bin\" #Laser Clock\n",
      "filename2 = Location + fn_laser\n",
      "laser = js.load_raw_data(filename2, 10e3)\n",
      "\n",
      "fig = plt.figure()\n",
      "ax= fig.add_subplot(111)\n",
      "\n",
      "#Multiplying the x-axis by 2/3 to switch to time\n",
      "plt.plot(np.linspace(0, len(laser) * (2.0/3.0), len(laser)), laser, 'b-', label = \"Laser Pulse Clock\")\n",
      "plt.plot(np.linspace(0, len(photons) * (2.0/3.0), len(photons)),photons, 'r-', label = \"PMT Output\")\n",
      "\n",
      "\n",
      "\n",
      "plt.xlabel('Nanoseconds - ns', fontsize = 15)\n",
      "plt.ylabel('Voltage - v', fontsize = 15)\n",
      "ax.set_title(\"PMT Output vs. Laser Pulse\")\n",
      "plt.legend(bbox_to_anchor=(1.05, 1), loc=2, borderaxespad=0.)\n",
      "\n",
      "plt.xlim(0, 500)\n",
      "plt.ylim(-5, 20)\n",
      "plt.show()\n"
     ],
     "language": "python",
     "metadata": {},
     "outputs": [
      {
       "metadata": {},
       "output_type": "display_data",
       "png": "[encoded data removed]",
       "text": [
        "<matplotlib.figure.Figure at 0x1061a1290>"
       ]
      }
     ],
     "prompt_number": 4
    },
    {
     "cell_type": "markdown",
     "metadata": {},
     "source": [
      "Find the test_bin_file and modify the code above. Put the full filepath in the variable \"location\"."
     ]
    },
    {
     "cell_type": "markdown",
     "metadata": {},
     "source": [
      "The poisson arrival code should work as well."
     ]
    },
    {
     "cell_type": "code",
     "collapsed": false,
     "input": [
      "\n",
      "ax = fig.add_subplot(111)\n",
      "ax.set_ylim(0, 1)\n",
      "\n",
      "time = 0\n",
      "for i in range(1,15):\n",
      "    time += np.random.poisson(10)\n",
      "    #print t\n",
      "    plt.plot(time , 0, 'ro', label = \"Arrivals\" ) \n",
      "ax = plt.gca()\n",
      "plt.xlabel('Seconds - s', fontsize = 15)\n",
      "ax.set_title(\"One-Dimensional Arrival Times\")\n",
      "ax.yaxis.set_visible(False)"
     ],
     "language": "python",
     "metadata": {},
     "outputs": [
      {
       "metadata": {},
       "output_type": "display_data",
       "png": "[encoded data removed]",
       "text": [
        "<matplotlib.figure.Figure at 0x10649c9d0>"
       ]
      }
     ],
     "prompt_number": 6
    },
    {
     "cell_type": "markdown",
     "metadata": {},
     "source": [
      "Let's see if we are able to make a mean-variance graph of our poisson arrivals."
     ]
    },
    {
     "cell_type": "code",
     "collapsed": false,
     "input": [
      "\n",
      "expected_values = [1, 5, 10, 15, 20, 25, 30]\n",
      "plot_mean = []\n",
      "plot_variance = []\n",
      "std_error = []\n",
      "for mean in expected_values:\n",
      "    temp_data = js.mean_variance_poisson(expected_values, 20000, 10)\n",
      "    plot_mean.append(temp_data[0])\n",
      "    plot_variance.append(temp_data[1])\n",
      "    std_error.append(temp_data[2])\n",
      "\n",
      "plot_mean.insert(0, 0)\n",
      "plot_variance.insert(0, 0)\n",
      "std_error.insert(0, 0)\n",
      "\n",
      "error = std_error\n",
      "\n",
      "fig = plt.figure()\n",
      "ax = fig.add_subplot(111)\n",
      "plt.errorbar(plot_mean, plot_variance, yerr= error, fmt = 'o')\n",
      "plt.plot(plot_mean, plot_variance, 'ro')\n",
      "fit = np.polyfit(plot_mean,plot_variance,1)\n",
      "fit_fn = np.poly1d(fit) \n",
      "\n",
      "plt.plot(plot_mean,plot_variance, 'yo', plot_mean, plot_mean , '--k')\n",
      "plt.xlabel('Mean', fontsize = 20)\n",
      "plt.ylabel('Variance', fontsize = 20)\n",
      "ax.set_title(\"Mean-Variance of Simulated Poisson Processes\")\n",
      "(m, b) = np.polyfit(plot_mean, plot_variance, 1)\n",
      "\n",
      "plt.show()\n",
      "print \"Slope: \" + str(m)\n",
      "print \"R-Squared: \" + str(js.rsquared(plot_mean, plot_variance))\n",
      "print \"Error Bars: \" + str(error)"
     ],
     "language": "python",
     "metadata": {},
     "outputs": []
    }
   ],
   "metadata": {}
  }
 ]
}